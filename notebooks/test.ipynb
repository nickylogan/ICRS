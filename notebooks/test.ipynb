{
 "cells": [
  {
   "cell_type": "code",
   "execution_count": 3,
   "metadata": {},
   "outputs": [],
   "source": [
    "import pickle\n",
    "import numpy as np\n",
    "import pandas as pd\n",
    "import sklearn.model_selection as ms\n",
    "\n",
    "# Input is a numpy dataframe that \n",
    "# contains ALL courses BEFORE concentration courses.\n",
    "\n",
    "# Output is a numpy series that returns a predicted GPA.\n",
    "\n",
    "def load_imdd(X_test):\n",
    "    loaded_model = pickle.load('imdd.sav')\n",
    "    return loaded_model.predict(X_test)\n",
    "\n",
    "def load_se(X_test):\n",
    "    loaded_model = pickle.load('se.sav')\n",
    "    return loaded_model.predict(X_test)\n",
    "\n",
    "def load_mi(X_test):\n",
    "    loaded_model = pickle.load('mi.sav')\n",
    "    return loaded_model.predict(X_test)"
   ]
  },
  {
   "cell_type": "code",
   "execution_count": null,
   "metadata": {},
   "outputs": [],
   "source": []
  }
 ],
 "metadata": {
  "kernelspec": {
   "display_name": "Python 3",
   "language": "python",
   "name": "python3"
  },
  "language_info": {
   "codemirror_mode": {
    "name": "ipython",
    "version": 3
   },
   "file_extension": ".py",
   "mimetype": "text/x-python",
   "name": "python",
   "nbconvert_exporter": "python",
   "pygments_lexer": "ipython3",
   "version": "3.7.0"
  }
 },
 "nbformat": 4,
 "nbformat_minor": 2
}
